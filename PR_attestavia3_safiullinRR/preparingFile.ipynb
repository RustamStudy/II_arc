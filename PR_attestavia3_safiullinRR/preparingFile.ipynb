{
 "cells": [
  {
   "cell_type": "code",
   "execution_count": null,
   "metadata": {},
   "outputs": [],
   "source": [
    "!pip install transformers"
   ]
  },
  {
   "cell_type": "code",
   "execution_count": null,
   "metadata": {},
   "outputs": [],
   "source": [
    "!pip install sacremoses"
   ]
  },
  {
   "cell_type": "code",
   "execution_count": 1,
   "id": "2985e52f",
   "metadata": {},
   "outputs": [],
   "source": [
    "import pandas as pd\n",
    "from transformers import FSMTForConditionalGeneration, FSMTTokenizer\n"
   ]
  },
  {
   "cell_type": "code",
   "execution_count": 2,
   "id": "8e432832",
   "metadata": {},
   "outputs": [],
   "source": [
    "modelNameRuEn = \"facebook/wmt19-ru-en\"\n",
    "\n",
    "tokenizerRuEn = FSMTTokenizer.from_pretrained(modelNameRuEn)\n",
    "modelRuEn = FSMTForConditionalGeneration.from_pretrained(modelNameRuEn)"
   ]
  },
  {
   "cell_type": "code",
   "execution_count": 3,
   "id": "d172b801",
   "metadata": {},
   "outputs": [],
   "source": [
    "def translateRuEn(inputRu):\n",
    "  input = inputRu\n",
    "  input_ids = tokenizerRuEn.encode(input, return_tensors=\"pt\")\n",
    "  outputs = modelRuEn.generate(input_ids)\n",
    "  decodedEn = tokenizerRuEn.decode(outputs[0], skip_special_tokens=True)\n",
    "  return decodedEn"
   ]
  },
  {
   "cell_type": "code",
   "execution_count": 4,
   "id": "e91e7a3c",
   "metadata": {},
   "outputs": [
    {
     "data": {
      "text/html": [
       "<div>\n",
       "<style scoped>\n",
       "    .dataframe tbody tr th:only-of-type {\n",
       "        vertical-align: middle;\n",
       "    }\n",
       "\n",
       "    .dataframe tbody tr th {\n",
       "        vertical-align: top;\n",
       "    }\n",
       "\n",
       "    .dataframe thead th {\n",
       "        text-align: right;\n",
       "    }\n",
       "</style>\n",
       "<table border=\"1\" class=\"dataframe\">\n",
       "  <thead>\n",
       "    <tr style=\"text-align: right;\">\n",
       "      <th></th>\n",
       "      <th>question</th>\n",
       "      <th>passage</th>\n",
       "      <th>label</th>\n",
       "      <th>idx</th>\n",
       "    </tr>\n",
       "  </thead>\n",
       "  <tbody>\n",
       "    <tr>\n",
       "      <th>0</th>\n",
       "      <td>Вднх - это выставочный центр?</td>\n",
       "      <td>«Вы́ставочный центр» — станция Московского мон...</td>\n",
       "      <td>1.0</td>\n",
       "      <td>0</td>\n",
       "    </tr>\n",
       "    <tr>\n",
       "      <th>1</th>\n",
       "      <td>Вднх - это выставочный центр?</td>\n",
       "      <td>Вы́ставка достиже́ний наро́дного хозя́йства  ,...</td>\n",
       "      <td>1.0</td>\n",
       "      <td>1</td>\n",
       "    </tr>\n",
       "    <tr>\n",
       "      <th>2</th>\n",
       "      <td>Был ли джиган в black star?</td>\n",
       "      <td>Вместе с этим треком они выступили на церемони...</td>\n",
       "      <td>1.0</td>\n",
       "      <td>2</td>\n",
       "    </tr>\n",
       "    <tr>\n",
       "      <th>3</th>\n",
       "      <td>Xiaomi конкурент apple?</td>\n",
       "      <td>Xiaomi — китайская компания, основанная в 2010...</td>\n",
       "      <td>1.0</td>\n",
       "      <td>3</td>\n",
       "    </tr>\n",
       "    <tr>\n",
       "      <th>4</th>\n",
       "      <td>Был ли автомат калашникова в вов?</td>\n",
       "      <td>Отметив некоторые недостатки и в целом удачную...</td>\n",
       "      <td>0.0</td>\n",
       "      <td>4</td>\n",
       "    </tr>\n",
       "    <tr>\n",
       "      <th>...</th>\n",
       "      <td>...</td>\n",
       "      <td>...</td>\n",
       "      <td>...</td>\n",
       "      <td>...</td>\n",
       "    </tr>\n",
       "    <tr>\n",
       "      <th>2549</th>\n",
       "      <td>Была ли у джихангира наложница?</td>\n",
       "      <td>Хюрре́м Хасеки́-султа́н ; настоящее имя неизве...</td>\n",
       "      <td>NaN</td>\n",
       "      <td>800</td>\n",
       "    </tr>\n",
       "    <tr>\n",
       "      <th>2550</th>\n",
       "      <td>Правда ли у животных нет групп крови?</td>\n",
       "      <td>Гру́ппа кро́ви — описание индивидуальных антиг...</td>\n",
       "      <td>NaN</td>\n",
       "      <td>801</td>\n",
       "    </tr>\n",
       "    <tr>\n",
       "      <th>2551</th>\n",
       "      <td>Все ли погибли на титанике?</td>\n",
       "      <td>Элизабет Глэдис Миллвина Дин  — англичанка, ко...</td>\n",
       "      <td>NaN</td>\n",
       "      <td>802</td>\n",
       "    </tr>\n",
       "    <tr>\n",
       "      <th>2552</th>\n",
       "      <td>Есть ли в хлебе белок?</td>\n",
       "      <td>Эта статья о группе белков. О пищевом продукте...</td>\n",
       "      <td>NaN</td>\n",
       "      <td>803</td>\n",
       "    </tr>\n",
       "    <tr>\n",
       "      <th>2553</th>\n",
       "      <td>Правда ли астану переименовали?</td>\n",
       "      <td>Нур-Султа́н  — столица Республики Казахстан с ...</td>\n",
       "      <td>NaN</td>\n",
       "      <td>804</td>\n",
       "    </tr>\n",
       "  </tbody>\n",
       "</table>\n",
       "<p>2554 rows × 4 columns</p>\n",
       "</div>"
      ],
      "text/plain": [
       "                                   question  \\\n",
       "0             Вднх - это выставочный центр?   \n",
       "1             Вднх - это выставочный центр?   \n",
       "2               Был ли джиган в black star?   \n",
       "3                   Xiaomi конкурент apple?   \n",
       "4         Был ли автомат калашникова в вов?   \n",
       "...                                     ...   \n",
       "2549        Была ли у джихангира наложница?   \n",
       "2550  Правда ли у животных нет групп крови?   \n",
       "2551            Все ли погибли на титанике?   \n",
       "2552                 Есть ли в хлебе белок?   \n",
       "2553        Правда ли астану переименовали?   \n",
       "\n",
       "                                                passage  label  idx  \n",
       "0     «Вы́ставочный центр» — станция Московского мон...    1.0    0  \n",
       "1     Вы́ставка достиже́ний наро́дного хозя́йства  ,...    1.0    1  \n",
       "2     Вместе с этим треком они выступили на церемони...    1.0    2  \n",
       "3     Xiaomi — китайская компания, основанная в 2010...    1.0    3  \n",
       "4     Отметив некоторые недостатки и в целом удачную...    0.0    4  \n",
       "...                                                 ...    ...  ...  \n",
       "2549  Хюрре́м Хасеки́-султа́н ; настоящее имя неизве...    NaN  800  \n",
       "2550  Гру́ппа кро́ви — описание индивидуальных антиг...    NaN  801  \n",
       "2551  Элизабет Глэдис Миллвина Дин  — англичанка, ко...    NaN  802  \n",
       "2552  Эта статья о группе белков. О пищевом продукте...    NaN  803  \n",
       "2553  Нур-Султа́н  — столица Республики Казахстан с ...    NaN  804  \n",
       "\n",
       "[2554 rows x 4 columns]"
      ]
     },
     "execution_count": 4,
     "metadata": {},
     "output_type": "execute_result"
    }
   ],
   "source": [
    "firstSet = pd.read_json('./firstSet.json')\n",
    "firstSet"
   ]
  },
  {
   "cell_type": "code",
   "execution_count": 5,
   "id": "38db1256",
   "metadata": {},
   "outputs": [],
   "source": [
    "newSet = []\n",
    "for i in range(len(firstSet)):\n",
    "    if i == 0 or firstSet.question[i] != firstSet.question[i-1]:\n",
    "        newSetElem = dict()\n",
    "        newSetElem['question'] = firstSet.question[i]\n",
    "        newSetElem['passage'] = firstSet.passage[i]\n",
    "        newSet.append(newSetElem)\n",
    "    else:\n",
    "        newSetElem['passage'] = newSetElem['passage'] + firstSet.passage[i]"
   ]
  },
  {
   "cell_type": "code",
   "execution_count": 6,
   "id": "eb688442",
   "metadata": {},
   "outputs": [],
   "source": [
    "pd.DataFrame(newSet).to_json('./dataset.json')"
   ]
  },
  {
   "cell_type": "code",
   "execution_count": 7,
   "id": "07b8ab95",
   "metadata": {},
   "outputs": [
    {
     "data": {
      "text/html": [
       "<div>\n",
       "<style scoped>\n",
       "    .dataframe tbody tr th:only-of-type {\n",
       "        vertical-align: middle;\n",
       "    }\n",
       "\n",
       "    .dataframe tbody tr th {\n",
       "        vertical-align: top;\n",
       "    }\n",
       "\n",
       "    .dataframe thead th {\n",
       "        text-align: right;\n",
       "    }\n",
       "</style>\n",
       "<table border=\"1\" class=\"dataframe\">\n",
       "  <thead>\n",
       "    <tr style=\"text-align: right;\">\n",
       "      <th></th>\n",
       "      <th>question</th>\n",
       "      <th>passage</th>\n",
       "    </tr>\n",
       "  </thead>\n",
       "  <tbody>\n",
       "    <tr>\n",
       "      <th>0</th>\n",
       "      <td>Вднх - это выставочный центр?</td>\n",
       "      <td>«Вы́ставочный центр» — станция Московского мон...</td>\n",
       "    </tr>\n",
       "    <tr>\n",
       "      <th>1</th>\n",
       "      <td>Был ли джиган в black star?</td>\n",
       "      <td>Вместе с этим треком они выступили на церемони...</td>\n",
       "    </tr>\n",
       "    <tr>\n",
       "      <th>2</th>\n",
       "      <td>Xiaomi конкурент apple?</td>\n",
       "      <td>Xiaomi — китайская компания, основанная в 2010...</td>\n",
       "    </tr>\n",
       "    <tr>\n",
       "      <th>3</th>\n",
       "      <td>Был ли автомат калашникова в вов?</td>\n",
       "      <td>Отметив некоторые недостатки и в целом удачную...</td>\n",
       "    </tr>\n",
       "    <tr>\n",
       "      <th>4</th>\n",
       "      <td>Может ли автомобиль ездить на газу?</td>\n",
       "      <td>Автомобиль на природном газе — один из видов а...</td>\n",
       "    </tr>\n",
       "    <tr>\n",
       "      <th>...</th>\n",
       "      <td>...</td>\n",
       "      <td>...</td>\n",
       "    </tr>\n",
       "    <tr>\n",
       "      <th>2199</th>\n",
       "      <td>Была ли у джихангира наложница?</td>\n",
       "      <td>Хюрре́м Хасеки́-султа́н ; настоящее имя неизве...</td>\n",
       "    </tr>\n",
       "    <tr>\n",
       "      <th>2200</th>\n",
       "      <td>Правда ли у животных нет групп крови?</td>\n",
       "      <td>Гру́ппа кро́ви — описание индивидуальных антиг...</td>\n",
       "    </tr>\n",
       "    <tr>\n",
       "      <th>2201</th>\n",
       "      <td>Все ли погибли на титанике?</td>\n",
       "      <td>Элизабет Глэдис Миллвина Дин  — англичанка, ко...</td>\n",
       "    </tr>\n",
       "    <tr>\n",
       "      <th>2202</th>\n",
       "      <td>Есть ли в хлебе белок?</td>\n",
       "      <td>Эта статья о группе белков. О пищевом продукте...</td>\n",
       "    </tr>\n",
       "    <tr>\n",
       "      <th>2203</th>\n",
       "      <td>Правда ли астану переименовали?</td>\n",
       "      <td>Нур-Султа́н  — столица Республики Казахстан с ...</td>\n",
       "    </tr>\n",
       "  </tbody>\n",
       "</table>\n",
       "<p>2204 rows × 2 columns</p>\n",
       "</div>"
      ],
      "text/plain": [
       "                                   question  \\\n",
       "0             Вднх - это выставочный центр?   \n",
       "1               Был ли джиган в black star?   \n",
       "2                   Xiaomi конкурент apple?   \n",
       "3         Был ли автомат калашникова в вов?   \n",
       "4       Может ли автомобиль ездить на газу?   \n",
       "...                                     ...   \n",
       "2199        Была ли у джихангира наложница?   \n",
       "2200  Правда ли у животных нет групп крови?   \n",
       "2201            Все ли погибли на титанике?   \n",
       "2202                 Есть ли в хлебе белок?   \n",
       "2203        Правда ли астану переименовали?   \n",
       "\n",
       "                                                passage  \n",
       "0     «Вы́ставочный центр» — станция Московского мон...  \n",
       "1     Вместе с этим треком они выступили на церемони...  \n",
       "2     Xiaomi — китайская компания, основанная в 2010...  \n",
       "3     Отметив некоторые недостатки и в целом удачную...  \n",
       "4     Автомобиль на природном газе — один из видов а...  \n",
       "...                                                 ...  \n",
       "2199  Хюрре́м Хасеки́-султа́н ; настоящее имя неизве...  \n",
       "2200  Гру́ппа кро́ви — описание индивидуальных антиг...  \n",
       "2201  Элизабет Глэдис Миллвина Дин  — англичанка, ко...  \n",
       "2202  Эта статья о группе белков. О пищевом продукте...  \n",
       "2203  Нур-Султа́н  — столица Республики Казахстан с ...  \n",
       "\n",
       "[2204 rows x 2 columns]"
      ]
     },
     "execution_count": 7,
     "metadata": {},
     "output_type": "execute_result"
    }
   ],
   "source": [
    "dataJSON = pd.read_json('./dataset.json')\n",
    "dataJSON"
   ]
  },
  {
   "cell_type": "code",
   "execution_count": null,
   "id": "364530e3",
   "metadata": {},
   "outputs": [],
   "source": [
    "\n",
    "dataJSON.questionEN = []\n",
    "for i in range(len(dataJSON.question)):\n",
    "   if i % 50 == 0:\n",
    "      ptint(i)\n",
    "   dataJSON.questionEN.append(translateRuEn(dataJSON.question[i]))"
   ]
  },
  {
   "cell_type": "code",
   "execution_count": null,
   "id": "9fa0f08f",
   "metadata": {},
   "outputs": [],
   "source": [
    "pd.DataFrame(dataJSON.questionEN).to_csv('./qEn.csv',header = None)"
   ]
  },
  {
   "cell_type": "code",
   "execution_count": null,
   "id": "24a7145a",
   "metadata": {},
   "outputs": [
    {
     "data": {
      "text/plain": [
       "100"
      ]
     },
     "execution_count": 84,
     "metadata": {},
     "output_type": "execute_result"
    }
   ],
   "source": [
    "questionENShort = []\n",
    "for i in range(100):\n",
    "    questionENShort.append(dataJSON.questionEN[i])\n",
    "len(questionENShort)"
   ]
  },
  {
   "cell_type": "code",
   "execution_count": null,
   "id": "5d94e4b4",
   "metadata": {},
   "outputs": [],
   "source": [
    "pd.DataFrame(questionENShort).to_csv('./qEnShort.csv',header = None)"
   ]
  }
 ],
 "metadata": {
  "kernelspec": {
   "display_name": "Python 3",
   "language": "python",
   "name": "python3"
  },
  "language_info": {
   "codemirror_mode": {
    "name": "ipython",
    "version": 3
   },
   "file_extension": ".py",
   "mimetype": "text/x-python",
   "name": "python",
   "nbconvert_exporter": "python",
   "pygments_lexer": "ipython3",
   "version": "3.9.8"
  }
 },
 "nbformat": 4,
 "nbformat_minor": 5
}

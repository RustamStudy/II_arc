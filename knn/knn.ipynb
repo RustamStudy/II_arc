{
 "cells": [
  {
   "cell_type": "code",
   "execution_count": 275,
   "metadata": {},
   "outputs": [],
   "source": [
    "import pandas as pd\n",
    "import numpy as np\n",
    "import matplotlib.pyplot as plt\n",
    "\n",
    "from sklearn.model_selection import train_test_split\n",
    "from sklearn.neighbors import KNeighborsClassifier\n",
    "from mlxtend.plotting import plot_decision_regions\n",
    "\n",
    "from sklearn.linear_model import LinearRegression\n",
    "\n",
    "from sklearn.metrics import accuracy_score, precision_score, recall_score, f1_score\n",
    "import seaborn as sns"
   ]
  },
  {
   "cell_type": "code",
   "execution_count": 62,
   "metadata": {},
   "outputs": [
    {
     "name": "stdout",
     "output_type": "stream",
     "text": [
      "Collecting mlxtendNote: you may need to restart the kernel to use updated packages.\n",
      "\n",
      "  Downloading mlxtend-0.23.0-py3-none-any.whl (1.4 MB)\n",
      "Requirement already satisfied: scipy>=1.2.1 in c:\\users\\rusta\\appdata\\local\\programs\\python\\python39\\lib\\site-packages (from mlxtend) (1.7.3)\n",
      "Requirement already satisfied: pandas>=0.24.2 in c:\\users\\rusta\\appdata\\local\\programs\\python\\python39\\lib\\site-packages (from mlxtend) (1.3.4)\n",
      "Requirement already satisfied: scikit-learn>=1.0.2 in c:\\users\\rusta\\appdata\\local\\programs\\python\\python39\\lib\\site-packages (from mlxtend) (1.3.2)\n",
      "Requirement already satisfied: numpy>=1.16.2 in c:\\users\\rusta\\appdata\\local\\programs\\python\\python39\\lib\\site-packages (from mlxtend) (1.21.4)\n",
      "Requirement already satisfied: matplotlib>=3.0.0 in c:\\users\\rusta\\appdata\\local\\programs\\python\\python39\\lib\\site-packages (from mlxtend) (3.5.0)\n",
      "Requirement already satisfied: joblib>=0.13.2 in c:\\users\\rusta\\appdata\\local\\programs\\python\\python39\\lib\\site-packages (from mlxtend) (1.3.2)\n",
      "Requirement already satisfied: pillow>=6.2.0 in c:\\users\\rusta\\appdata\\local\\programs\\python\\python39\\lib\\site-packages (from matplotlib>=3.0.0->mlxtend) (8.4.0)\n",
      "Requirement already satisfied: python-dateutil>=2.7 in c:\\users\\rusta\\appdata\\local\\programs\\python\\python39\\lib\\site-packages (from matplotlib>=3.0.0->mlxtend) (2.8.2)\n",
      "Requirement already satisfied: pyparsing>=2.2.1 in c:\\users\\rusta\\appdata\\local\\programs\\python\\python39\\lib\\site-packages (from matplotlib>=3.0.0->mlxtend) (3.0.6)\n",
      "Requirement already satisfied: kiwisolver>=1.0.1 in c:\\users\\rusta\\appdata\\local\\programs\\python\\python39\\lib\\site-packages (from matplotlib>=3.0.0->mlxtend) (1.3.2)\n"
     ]
    },
    {
     "name": "stderr",
     "output_type": "stream",
     "text": [
      "WARNING: You are using pip version 21.3.1; however, version 23.3.1 is available.\n",
      "You should consider upgrading via the 'c:\\Users\\Rusta\\AppData\\Local\\Programs\\Python\\Python39\\python.exe -m pip install --upgrade pip' command.\n"
     ]
    },
    {
     "name": "stdout",
     "output_type": "stream",
     "text": [
      "Requirement already satisfied: setuptools-scm>=4 in c:\\users\\rusta\\appdata\\local\\programs\\python\\python39\\lib\\site-packages (from matplotlib>=3.0.0->mlxtend) (6.3.2)\n",
      "Requirement already satisfied: packaging>=20.0 in c:\\users\\rusta\\appdata\\local\\programs\\python\\python39\\lib\\site-packages (from matplotlib>=3.0.0->mlxtend) (21.3)\n",
      "Requirement already satisfied: fonttools>=4.22.0 in c:\\users\\rusta\\appdata\\local\\programs\\python\\python39\\lib\\site-packages (from matplotlib>=3.0.0->mlxtend) (4.28.2)\n",
      "Requirement already satisfied: cycler>=0.10 in c:\\users\\rusta\\appdata\\local\\programs\\python\\python39\\lib\\site-packages (from matplotlib>=3.0.0->mlxtend) (0.11.0)\n",
      "Requirement already satisfied: pytz>=2017.3 in c:\\users\\rusta\\appdata\\local\\programs\\python\\python39\\lib\\site-packages (from pandas>=0.24.2->mlxtend) (2021.3)\n",
      "Requirement already satisfied: threadpoolctl>=2.0.0 in c:\\users\\rusta\\appdata\\local\\programs\\python\\python39\\lib\\site-packages (from scikit-learn>=1.0.2->mlxtend) (3.2.0)\n",
      "Requirement already satisfied: six>=1.5 in c:\\users\\rusta\\appdata\\local\\programs\\python\\python39\\lib\\site-packages (from python-dateutil>=2.7->matplotlib>=3.0.0->mlxtend) (1.16.0)\n",
      "Requirement already satisfied: setuptools in c:\\users\\rusta\\appdata\\local\\programs\\python\\python39\\lib\\site-packages (from setuptools-scm>=4->matplotlib>=3.0.0->mlxtend) (58.1.0)\n",
      "Requirement already satisfied: tomli>=1.0.0 in c:\\users\\rusta\\appdata\\local\\programs\\python\\python39\\lib\\site-packages (from setuptools-scm>=4->matplotlib>=3.0.0->mlxtend) (1.2.2)\n",
      "Installing collected packages: mlxtend\n",
      "Successfully installed mlxtend-0.23.0\n"
     ]
    }
   ],
   "source": [
    "pip install   mlxtend"
   ]
  },
  {
   "cell_type": "code",
   "execution_count": 261,
   "metadata": {},
   "outputs": [
    {
     "data": {
      "text/html": [
       "<div>\n",
       "<style scoped>\n",
       "    .dataframe tbody tr th:only-of-type {\n",
       "        vertical-align: middle;\n",
       "    }\n",
       "\n",
       "    .dataframe tbody tr th {\n",
       "        vertical-align: top;\n",
       "    }\n",
       "\n",
       "    .dataframe thead th {\n",
       "        text-align: right;\n",
       "    }\n",
       "</style>\n",
       "<table border=\"1\" class=\"dataframe\">\n",
       "  <thead>\n",
       "    <tr style=\"text-align: right;\">\n",
       "      <th></th>\n",
       "      <th>Pregnancies</th>\n",
       "      <th>Glucose</th>\n",
       "      <th>BloodPressure</th>\n",
       "      <th>SkinThickness</th>\n",
       "      <th>Insulin</th>\n",
       "      <th>BMI</th>\n",
       "      <th>DiabetesPedigreeFunction</th>\n",
       "      <th>Age</th>\n",
       "      <th>Outcome</th>\n",
       "    </tr>\n",
       "  </thead>\n",
       "  <tbody>\n",
       "    <tr>\n",
       "      <th>0</th>\n",
       "      <td>6</td>\n",
       "      <td>148</td>\n",
       "      <td>72</td>\n",
       "      <td>35</td>\n",
       "      <td>0</td>\n",
       "      <td>33.6</td>\n",
       "      <td>0.627</td>\n",
       "      <td>50</td>\n",
       "      <td>1</td>\n",
       "    </tr>\n",
       "    <tr>\n",
       "      <th>1</th>\n",
       "      <td>1</td>\n",
       "      <td>85</td>\n",
       "      <td>66</td>\n",
       "      <td>29</td>\n",
       "      <td>0</td>\n",
       "      <td>26.6</td>\n",
       "      <td>0.351</td>\n",
       "      <td>31</td>\n",
       "      <td>0</td>\n",
       "    </tr>\n",
       "    <tr>\n",
       "      <th>2</th>\n",
       "      <td>8</td>\n",
       "      <td>183</td>\n",
       "      <td>64</td>\n",
       "      <td>0</td>\n",
       "      <td>0</td>\n",
       "      <td>23.3</td>\n",
       "      <td>0.672</td>\n",
       "      <td>32</td>\n",
       "      <td>1</td>\n",
       "    </tr>\n",
       "    <tr>\n",
       "      <th>3</th>\n",
       "      <td>1</td>\n",
       "      <td>89</td>\n",
       "      <td>66</td>\n",
       "      <td>23</td>\n",
       "      <td>94</td>\n",
       "      <td>28.1</td>\n",
       "      <td>0.167</td>\n",
       "      <td>21</td>\n",
       "      <td>0</td>\n",
       "    </tr>\n",
       "    <tr>\n",
       "      <th>4</th>\n",
       "      <td>0</td>\n",
       "      <td>137</td>\n",
       "      <td>40</td>\n",
       "      <td>35</td>\n",
       "      <td>168</td>\n",
       "      <td>43.1</td>\n",
       "      <td>2.288</td>\n",
       "      <td>33</td>\n",
       "      <td>1</td>\n",
       "    </tr>\n",
       "    <tr>\n",
       "      <th>...</th>\n",
       "      <td>...</td>\n",
       "      <td>...</td>\n",
       "      <td>...</td>\n",
       "      <td>...</td>\n",
       "      <td>...</td>\n",
       "      <td>...</td>\n",
       "      <td>...</td>\n",
       "      <td>...</td>\n",
       "      <td>...</td>\n",
       "    </tr>\n",
       "    <tr>\n",
       "      <th>763</th>\n",
       "      <td>10</td>\n",
       "      <td>101</td>\n",
       "      <td>76</td>\n",
       "      <td>48</td>\n",
       "      <td>180</td>\n",
       "      <td>32.9</td>\n",
       "      <td>0.171</td>\n",
       "      <td>63</td>\n",
       "      <td>0</td>\n",
       "    </tr>\n",
       "    <tr>\n",
       "      <th>764</th>\n",
       "      <td>2</td>\n",
       "      <td>122</td>\n",
       "      <td>70</td>\n",
       "      <td>27</td>\n",
       "      <td>0</td>\n",
       "      <td>36.8</td>\n",
       "      <td>0.340</td>\n",
       "      <td>27</td>\n",
       "      <td>0</td>\n",
       "    </tr>\n",
       "    <tr>\n",
       "      <th>765</th>\n",
       "      <td>5</td>\n",
       "      <td>121</td>\n",
       "      <td>72</td>\n",
       "      <td>23</td>\n",
       "      <td>112</td>\n",
       "      <td>26.2</td>\n",
       "      <td>0.245</td>\n",
       "      <td>30</td>\n",
       "      <td>0</td>\n",
       "    </tr>\n",
       "    <tr>\n",
       "      <th>766</th>\n",
       "      <td>1</td>\n",
       "      <td>126</td>\n",
       "      <td>60</td>\n",
       "      <td>0</td>\n",
       "      <td>0</td>\n",
       "      <td>30.1</td>\n",
       "      <td>0.349</td>\n",
       "      <td>47</td>\n",
       "      <td>1</td>\n",
       "    </tr>\n",
       "    <tr>\n",
       "      <th>767</th>\n",
       "      <td>1</td>\n",
       "      <td>93</td>\n",
       "      <td>70</td>\n",
       "      <td>31</td>\n",
       "      <td>0</td>\n",
       "      <td>30.4</td>\n",
       "      <td>0.315</td>\n",
       "      <td>23</td>\n",
       "      <td>0</td>\n",
       "    </tr>\n",
       "  </tbody>\n",
       "</table>\n",
       "<p>768 rows × 9 columns</p>\n",
       "</div>"
      ],
      "text/plain": [
       "     Pregnancies  Glucose  BloodPressure  SkinThickness  Insulin   BMI  \\\n",
       "0              6      148             72             35        0  33.6   \n",
       "1              1       85             66             29        0  26.6   \n",
       "2              8      183             64              0        0  23.3   \n",
       "3              1       89             66             23       94  28.1   \n",
       "4              0      137             40             35      168  43.1   \n",
       "..           ...      ...            ...            ...      ...   ...   \n",
       "763           10      101             76             48      180  32.9   \n",
       "764            2      122             70             27        0  36.8   \n",
       "765            5      121             72             23      112  26.2   \n",
       "766            1      126             60              0        0  30.1   \n",
       "767            1       93             70             31        0  30.4   \n",
       "\n",
       "     DiabetesPedigreeFunction  Age  Outcome  \n",
       "0                       0.627   50        1  \n",
       "1                       0.351   31        0  \n",
       "2                       0.672   32        1  \n",
       "3                       0.167   21        0  \n",
       "4                       2.288   33        1  \n",
       "..                        ...  ...      ...  \n",
       "763                     0.171   63        0  \n",
       "764                     0.340   27        0  \n",
       "765                     0.245   30        0  \n",
       "766                     0.349   47        1  \n",
       "767                     0.315   23        0  \n",
       "\n",
       "[768 rows x 9 columns]"
      ]
     },
     "execution_count": 261,
     "metadata": {},
     "output_type": "execute_result"
    }
   ],
   "source": [
    "df = pd.read_csv('./diabetes.csv')\n",
    "df"
   ]
  },
  {
   "cell_type": "markdown",
   "metadata": {},
   "source": [
    "Подготовка данных"
   ]
  },
  {
   "cell_type": "code",
   "execution_count": 203,
   "metadata": {},
   "outputs": [
    {
     "data": {
      "text/plain": [
       "array([ 5, 10, 15, 20, 25])"
      ]
     },
     "execution_count": 203,
     "metadata": {},
     "output_type": "execute_result"
    }
   ],
   "source": [
    "k= np.array([5,10,15,20,25])\n",
    "k"
   ]
  },
  {
   "cell_type": "code",
   "execution_count": 176,
   "metadata": {},
   "outputs": [
    {
     "data": {
      "text/plain": [
       "array([20, 25, 30])"
      ]
     },
     "execution_count": 176,
     "metadata": {},
     "output_type": "execute_result"
    }
   ],
   "source": [
    "test= np.array([20,25,30])\n",
    "test"
   ]
  },
  {
   "cell_type": "code",
   "execution_count": 178,
   "metadata": {},
   "outputs": [],
   "source": [
    "X = df.drop(columns=['Outcome'], axis=1)\n",
    "y = df['Outcome']"
   ]
  },
  {
   "cell_type": "code",
   "execution_count": 249,
   "metadata": {},
   "outputs": [],
   "source": [
    "def modelSearch(X_train, X_test, y_train, y_test,k,dfClass):\n",
    "    model = KNeighborsClassifier(n_neighbors=k)\n",
    "    model.fit(X_train,y_train)\n",
    "    score = model.score(X_test,y_test)\n",
    "    dfClass.loc[ len(dfClass.index )] = [k, model, score]"
   ]
  },
  {
   "cell_type": "code",
   "execution_count": 251,
   "metadata": {},
   "outputs": [],
   "source": [
    "def getModel(X_train, X_test, y_train, y_test):\n",
    "    dfClass = pd.DataFrame(columns=['k', 'model', 'score'])\n",
    "    for i in range(len(k)):\n",
    "        modelSearch(X_train, X_test, y_train, y_test,k[i],dfClass)\n",
    "    return dfClass\n",
    "    "
   ]
  },
  {
   "cell_type": "code",
   "execution_count": 160,
   "metadata": {},
   "outputs": [],
   "source": [
    "def modelReport(model, X_test, y_test, average='weighted'):\n",
    "   \n",
    "    y_pred = model.predict(X_test)\n",
    "\n",
    "    accuracy_eff = accuracy_score(y_test, y_pred)\n",
    "    print(f\"Правильность (accuracy) модели: {accuracy_eff}\")\n",
    "\n",
    "    precision_eff = precision_score(y_test, y_pred, average=average)\n",
    "    print(f\"Точность (precision) модели: {precision_eff}\")\n",
    "\n",
    "    recall_eff = recall_score(y_test, y_pred, average=average)\n",
    "    print(f\"Полнота (recall) модели: {recall_eff}\")\n",
    "\n",
    "    f1_eff = f1_score(y_test, y_pred, average=average)\n",
    "    print(f\"F1 мера модели: {f1_eff}\")"
   ]
  },
  {
   "cell_type": "code",
   "execution_count": 258,
   "metadata": {},
   "outputs": [
    {
     "name": "stdout",
     "output_type": "stream",
     "text": [
      "Тестовая выборка - 20\n",
      "Информация по выборке - \n",
      "    k                                 model     score\n",
      "0   5                KNeighborsClassifier()  0.727273\n",
      "1  10  KNeighborsClassifier(n_neighbors=10)  0.740260\n",
      "2  15  KNeighborsClassifier(n_neighbors=15)  0.753247\n",
      "3  20  KNeighborsClassifier(n_neighbors=20)  0.746753\n",
      "4  25  KNeighborsClassifier(n_neighbors=25)  0.733766\n",
      "Лучшая выборка - \n",
      "    k                                 model     score\n",
      "2  15  KNeighborsClassifier(n_neighbors=15)  0.753247\n",
      "Лучшая модель - \n",
      "KNeighborsClassifier(n_neighbors=15)\n",
      "Правильность (accuracy) модели: 0.7532467532467533\n",
      "Точность (precision) модели: 0.751500600240096\n",
      "Полнота (recall) модели: 0.7532467532467533\n",
      "F1 мера модели: 0.7371486821028105\n",
      "\n",
      "\n",
      "Тестовая выборка - 25\n",
      "Информация по выборке - \n",
      "    k                                 model     score\n",
      "0   5                KNeighborsClassifier()  0.703125\n",
      "1  10  KNeighborsClassifier(n_neighbors=10)  0.723958\n",
      "2  15  KNeighborsClassifier(n_neighbors=15)  0.750000\n",
      "3  20  KNeighborsClassifier(n_neighbors=20)  0.744792\n",
      "4  25  KNeighborsClassifier(n_neighbors=25)  0.718750\n",
      "Лучшая выборка - \n",
      "    k                                 model  score\n",
      "2  15  KNeighborsClassifier(n_neighbors=15)   0.75\n",
      "Лучшая модель - \n",
      "KNeighborsClassifier(n_neighbors=15)\n",
      "Правильность (accuracy) модели: 0.75\n",
      "Точность (precision) модели: 0.7509826152683295\n",
      "Полнота (recall) модели: 0.75\n",
      "F1 мера модели: 0.7341096242923314\n",
      "\n",
      "\n",
      "Тестовая выборка - 30\n",
      "Информация по выборке - \n",
      "    k                                 model     score\n",
      "0   5                KNeighborsClassifier()  0.714286\n",
      "1  10  KNeighborsClassifier(n_neighbors=10)  0.722944\n",
      "2  15  KNeighborsClassifier(n_neighbors=15)  0.753247\n",
      "3  20  KNeighborsClassifier(n_neighbors=20)  0.744589\n",
      "4  25  KNeighborsClassifier(n_neighbors=25)  0.722944\n",
      "Лучшая выборка - \n",
      "    k                                 model     score\n",
      "2  15  KNeighborsClassifier(n_neighbors=15)  0.753247\n",
      "Лучшая модель - \n",
      "KNeighborsClassifier(n_neighbors=15)\n",
      "Правильность (accuracy) модели: 0.7532467532467533\n",
      "Точность (precision) модели: 0.7535028041706014\n",
      "Полнота (recall) модели: 0.7532467532467533\n",
      "F1 мера модели: 0.7370976468786689\n",
      "\n",
      "\n"
     ]
    }
   ],
   "source": [
    "\n",
    "for i in range(len(test)):\n",
    "    print(f\"Тестовая выборка - {test[i]}\")\n",
    "    X_train, X_test, y_train, y_test = train_test_split(X, y, test_size=test[i]/100, random_state=1234)\n",
    "    dfClass = getModel(X_train, X_test, y_train, y_test)\n",
    "    print(f\"Информация по выборке - \\n{dfClass}\")\n",
    "    bestScore = dfClass[dfClass['score'] == dfClass['score']. max ()]\n",
    "    bestModel = bestScore['model'].reset_index(level=0, drop=True)[0]\n",
    "    print(f\"Лучшая выборка - \\n{bestScore}\")\n",
    "    print(f\"Лучшая модель - \\n{bestModel}\")\n",
    "    modelReport(bestModel, X_test, y_test)\n",
    "    print (f\"\\n\")"
   ]
  },
  {
   "cell_type": "code",
   "execution_count": 263,
   "metadata": {},
   "outputs": [],
   "source": [
    "X_regr = df[['SkinThickness', 'BMI']]\n",
    "y_regr = df['insulin']\n"
   ]
  },
  {
   "cell_type": "code",
   "execution_count": 273,
   "metadata": {},
   "outputs": [],
   "source": [
    "X_train_r, X_test_r, y_train_r, y_test_r = train_test_split(X_regr, y_regr, test_size = 0.25, random_state = 1234)"
   ]
  },
  {
   "cell_type": "code",
   "execution_count": 276,
   "metadata": {},
   "outputs": [
    {
     "data": {
      "text/html": [
       "<style>#sk-container-id-8 {color: black;}#sk-container-id-8 pre{padding: 0;}#sk-container-id-8 div.sk-toggleable {background-color: white;}#sk-container-id-8 label.sk-toggleable__label {cursor: pointer;display: block;width: 100%;margin-bottom: 0;padding: 0.3em;box-sizing: border-box;text-align: center;}#sk-container-id-8 label.sk-toggleable__label-arrow:before {content: \"▸\";float: left;margin-right: 0.25em;color: #696969;}#sk-container-id-8 label.sk-toggleable__label-arrow:hover:before {color: black;}#sk-container-id-8 div.sk-estimator:hover label.sk-toggleable__label-arrow:before {color: black;}#sk-container-id-8 div.sk-toggleable__content {max-height: 0;max-width: 0;overflow: hidden;text-align: left;background-color: #f0f8ff;}#sk-container-id-8 div.sk-toggleable__content pre {margin: 0.2em;color: black;border-radius: 0.25em;background-color: #f0f8ff;}#sk-container-id-8 input.sk-toggleable__control:checked~div.sk-toggleable__content {max-height: 200px;max-width: 100%;overflow: auto;}#sk-container-id-8 input.sk-toggleable__control:checked~label.sk-toggleable__label-arrow:before {content: \"▾\";}#sk-container-id-8 div.sk-estimator input.sk-toggleable__control:checked~label.sk-toggleable__label {background-color: #d4ebff;}#sk-container-id-8 div.sk-label input.sk-toggleable__control:checked~label.sk-toggleable__label {background-color: #d4ebff;}#sk-container-id-8 input.sk-hidden--visually {border: 0;clip: rect(1px 1px 1px 1px);clip: rect(1px, 1px, 1px, 1px);height: 1px;margin: -1px;overflow: hidden;padding: 0;position: absolute;width: 1px;}#sk-container-id-8 div.sk-estimator {font-family: monospace;background-color: #f0f8ff;border: 1px dotted black;border-radius: 0.25em;box-sizing: border-box;margin-bottom: 0.5em;}#sk-container-id-8 div.sk-estimator:hover {background-color: #d4ebff;}#sk-container-id-8 div.sk-parallel-item::after {content: \"\";width: 100%;border-bottom: 1px solid gray;flex-grow: 1;}#sk-container-id-8 div.sk-label:hover label.sk-toggleable__label {background-color: #d4ebff;}#sk-container-id-8 div.sk-serial::before {content: \"\";position: absolute;border-left: 1px solid gray;box-sizing: border-box;top: 0;bottom: 0;left: 50%;z-index: 0;}#sk-container-id-8 div.sk-serial {display: flex;flex-direction: column;align-items: center;background-color: white;padding-right: 0.2em;padding-left: 0.2em;position: relative;}#sk-container-id-8 div.sk-item {position: relative;z-index: 1;}#sk-container-id-8 div.sk-parallel {display: flex;align-items: stretch;justify-content: center;background-color: white;position: relative;}#sk-container-id-8 div.sk-item::before, #sk-container-id-8 div.sk-parallel-item::before {content: \"\";position: absolute;border-left: 1px solid gray;box-sizing: border-box;top: 0;bottom: 0;left: 50%;z-index: -1;}#sk-container-id-8 div.sk-parallel-item {display: flex;flex-direction: column;z-index: 1;position: relative;background-color: white;}#sk-container-id-8 div.sk-parallel-item:first-child::after {align-self: flex-end;width: 50%;}#sk-container-id-8 div.sk-parallel-item:last-child::after {align-self: flex-start;width: 50%;}#sk-container-id-8 div.sk-parallel-item:only-child::after {width: 0;}#sk-container-id-8 div.sk-dashed-wrapped {border: 1px dashed gray;margin: 0 0.4em 0.5em 0.4em;box-sizing: border-box;padding-bottom: 0.4em;background-color: white;}#sk-container-id-8 div.sk-label label {font-family: monospace;font-weight: bold;display: inline-block;line-height: 1.2em;}#sk-container-id-8 div.sk-label-container {text-align: center;}#sk-container-id-8 div.sk-container {/* jupyter's `normalize.less` sets `[hidden] { display: none; }` but bootstrap.min.css set `[hidden] { display: none !important; }` so we also need the `!important` here to be able to override the default hidden behavior on the sphinx rendered scikit-learn.org. See: https://github.com/scikit-learn/scikit-learn/issues/21755 */display: inline-block !important;position: relative;}#sk-container-id-8 div.sk-text-repr-fallback {display: none;}</style><div id=\"sk-container-id-8\" class=\"sk-top-container\"><div class=\"sk-text-repr-fallback\"><pre>LinearRegression()</pre><b>In a Jupyter environment, please rerun this cell to show the HTML representation or trust the notebook. <br />On GitHub, the HTML representation is unable to render, please try loading this page with nbviewer.org.</b></div><div class=\"sk-container\" hidden><div class=\"sk-item\"><div class=\"sk-estimator sk-toggleable\"><input class=\"sk-toggleable__control sk-hidden--visually\" id=\"sk-estimator-id-8\" type=\"checkbox\" checked><label for=\"sk-estimator-id-8\" class=\"sk-toggleable__label sk-toggleable__label-arrow\">LinearRegression</label><div class=\"sk-toggleable__content\"><pre>LinearRegression()</pre></div></div></div></div></div>"
      ],
      "text/plain": [
       "LinearRegression()"
      ]
     },
     "execution_count": 276,
     "metadata": {},
     "output_type": "execute_result"
    }
   ],
   "source": [
    "model_regr = LinearRegression()\n",
    "model_regr.fit(X_train_r, y_train_r)"
   ]
  },
  {
   "cell_type": "code",
   "execution_count": 277,
   "metadata": {},
   "outputs": [
    {
     "data": {
      "text/plain": [
       "0.1981194399422609"
      ]
     },
     "execution_count": 277,
     "metadata": {},
     "output_type": "execute_result"
    }
   ],
   "source": [
    "model_regr.score(X_train_r, y_train_r)"
   ]
  },
  {
   "cell_type": "code",
   "execution_count": 282,
   "metadata": {},
   "outputs": [
    {
     "name": "stdout",
     "output_type": "stream",
     "text": [
      "Коэффициент А1 - 3.24582349420661\n",
      "Коэффициент А2 - 0.3423379885074375\n",
      "Коэффициент В - 4.565017399343375\n"
     ]
    }
   ],
   "source": [
    "print(f\"Коэффициент А1 - {model_regr.coef_[0]}\") \n",
    "print(f\"Коэффициент А2 - {model_regr.coef_[1]}\") \n",
    "print(f\"Коэффициент В - {model_regr.intercept_}\") "
   ]
  },
  {
   "cell_type": "code",
   "execution_count": 316,
   "metadata": {},
   "outputs": [],
   "source": [
    "from sklearn.svm import LinearSVC, SVC\n",
    "from sklearn.model_selection import cross_val_score, KFold, train_test_split\n",
    "\n",
    "from sklearn.tree import DecisionTreeClassifier\n",
    "from sklearn.preprocessing import PolynomialFeatures"
   ]
  },
  {
   "cell_type": "code",
   "execution_count": 320,
   "metadata": {},
   "outputs": [
    {
     "name": "stdout",
     "output_type": "stream",
     "text": [
      "  n_splits                                              score  scoreMean\n",
      "0        5  [0.5689655172413793, 0.45217391304347826, 0.45...   0.475532\n",
      "1       10  [0.6206896551724138, 0.5172413793103449, 0.482...   0.475499\n",
      "2       15  [0.6410256410256411, 0.6153846153846154, 0.435...   0.475304\n",
      "3       20  [0.6206896551724138, 0.6206896551724138, 0.655...   0.475000\n",
      "4       25  [0.625, 0.6956521739130435, 0.4782608695652174...   0.475435\n"
     ]
    }
   ],
   "source": [
    "dfClassSVC = pd.DataFrame(columns=['n_splits', 'score', 'scoreMean'])\n",
    "for i in range(len(k)):\n",
    "    k_fold = KFold(n_splits=k[i])\n",
    "    score = cross_val_score(SVC(), X_train_r,y_train_r,cv = k_fold,scoring='accuracy',n_jobs=-1)\n",
    "    dfClassSVC.loc[ len(dfClassSVC.index )] = (k[i],score, score.mean())\n",
    "print(dfClassSVC)"
   ]
  },
  {
   "cell_type": "code",
   "execution_count": 323,
   "metadata": {},
   "outputs": [
    {
     "name": "stdout",
     "output_type": "stream",
     "text": [
      "  n_splits                                              score  scoreMean\n",
      "0        5  [0.4396551724137931, 0.30434782608695654, 0.33...   0.345322\n",
      "1       10  [0.43103448275862066, 0.41379310344827586, 0.3...   0.343497\n",
      "2       15  [0.41025641025641024, 0.48717948717948717, 0.3...   0.336527\n",
      "3       20  [0.3793103448275862, 0.5172413793103449, 0.517...   0.339717\n",
      "4       25  [0.375, 0.5652173913043478, 0.3043478260869565...   0.340217\n"
     ]
    }
   ],
   "source": [
    "dfClassDecisionTreeClassifier = pd.DataFrame(columns=['n_splits', 'score', 'scoreMean'])\n",
    "for i in range(len(k)):\n",
    "    k_fold = KFold(n_splits=k[i])\n",
    "    score = cross_val_score(DecisionTreeClassifier(), X_train_r,y_train_r,cv = k_fold,scoring='accuracy',n_jobs=-1)\n",
    "    dfClassDecisionTreeClassifier.loc[ len(dfClassDecisionTreeClassifier.index )] = (k[i],score, score.mean())\n",
    "print(dfClassDecisionTreeClassifier)"
   ]
  }
 ],
 "metadata": {
  "kernelspec": {
   "display_name": "Python 3",
   "language": "python",
   "name": "python3"
  },
  "language_info": {
   "codemirror_mode": {
    "name": "ipython",
    "version": 3
   },
   "file_extension": ".py",
   "mimetype": "text/x-python",
   "name": "python",
   "nbconvert_exporter": "python",
   "pygments_lexer": "ipython3",
   "version": "3.9.8"
  },
  "orig_nbformat": 4
 },
 "nbformat": 4,
 "nbformat_minor": 2
}

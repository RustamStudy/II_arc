{
 "cells": [
  {
   "cell_type": "code",
   "execution_count": 1,
   "metadata": {},
   "outputs": [
    {
     "name": "stderr",
     "output_type": "stream",
     "text": [
      "\"ngrok\" �� ���� ����७��� ��� ���譥�\n",
      "��������, �ᯮ��塞�� �ணࠬ��� ��� ������ 䠩���.\n"
     ]
    }
   ],
   "source": [
    "!ngrok authtoken 21XbZwQIx4XIlisHVGgHadi1MXK_6iKdHymk1xwVq4Sz97kGc\n",
    "\n",
    "from flask import Flask, request\n",
    "from flask_ngrok import run_with_ngrok\n",
    "from flask import jsonify\n",
    "from flask_cors import CORS"
   ]
  },
  {
   "cell_type": "code",
   "execution_count": 2,
   "metadata": {},
   "outputs": [
    {
     "name": "stdout",
     "output_type": "stream",
     "text": [
      "Note: you may need to restart the kernel to use updated packages.Collecting flask-cors\n",
      "  Downloading Flask_Cors-4.0.0-py2.py3-none-any.whl (14 kB)\n",
      "Requirement already satisfied: Flask>=0.9 in c:\\users\\rusta\\appdata\\local\\programs\\python\\python39\\lib\\site-packages (from flask-cors) (2.0.2)\n",
      "Requirement already satisfied: Werkzeug>=2.0 in c:\\users\\rusta\\appdata\\local\\programs\\python\\python39\\lib\\site-packages (from Flask>=0.9->flask-cors) (2.0.2)\n",
      "Requirement already satisfied: Jinja2>=3.0 in c:\\users\\rusta\\appdata\\local\\programs\\python\\python39\\lib\\site-packages (from Flask>=0.9->flask-cors) (3.0.3)\n"
     ]
    },
    {
     "name": "stderr",
     "output_type": "stream",
     "text": [
      "WARNING: You are using pip version 21.3.1; however, version 23.3.1 is available.\n",
      "You should consider upgrading via the 'c:\\Users\\Rusta\\AppData\\Local\\Programs\\Python\\Python39\\python.exe -m pip install --upgrade pip' command.\n"
     ]
    },
    {
     "name": "stdout",
     "output_type": "stream",
     "text": [
      "\n",
      "Requirement already satisfied: itsdangerous>=2.0 in c:\\users\\rusta\\appdata\\local\\programs\\python\\python39\\lib\\site-packages (from Flask>=0.9->flask-cors) (2.0.1)\n",
      "Requirement already satisfied: click>=7.1.2 in c:\\users\\rusta\\appdata\\local\\programs\\python\\python39\\lib\\site-packages (from Flask>=0.9->flask-cors) (8.0.3)\n",
      "Requirement already satisfied: colorama in c:\\users\\rusta\\appdata\\local\\programs\\python\\python39\\lib\\site-packages (from click>=7.1.2->Flask>=0.9->flask-cors) (0.4.4)\n",
      "Requirement already satisfied: MarkupSafe>=2.0 in c:\\users\\rusta\\appdata\\local\\programs\\python\\python39\\lib\\site-packages (from Jinja2>=3.0->Flask>=0.9->flask-cors) (2.0.1)\n",
      "Installing collected packages: flask-cors\n",
      "Successfully installed flask-cors-4.0.0\n"
     ]
    }
   ],
   "source": [
    "pip install -U flask-cors"
   ]
  },
  {
   "cell_type": "code",
   "execution_count": 23,
   "metadata": {},
   "outputs": [
    {
     "name": "stdout",
     "output_type": "stream",
     "text": [
      " * Serving Flask app '__main__' (lazy loading)\n",
      " * Environment: production\n",
      "\u001b[31m   WARNING: This is a development server. Do not use it in a production deployment.\u001b[0m\n",
      "\u001b[2m   Use a production WSGI server instead.\u001b[0m\n",
      " * Debug mode: off\n"
     ]
    },
    {
     "name": "stderr",
     "output_type": "stream",
     "text": [
      " * Running on http://127.0.0.1:5000/ (Press CTRL+C to quit)\n"
     ]
    },
    {
     "name": "stdout",
     "output_type": "stream",
     "text": [
      " * Running on http://0e11-95-167-41-156.ngrok-free.app\n",
      " * Traffic stats available on http://127.0.0.1:4040\n"
     ]
    },
    {
     "name": "stderr",
     "output_type": "stream",
     "text": [
      "c:\\Users\\Rusta\\AppData\\Local\\Programs\\Python\\Python39\\lib\\site-packages\\sklearn\\base.py:465: UserWarning: X does not have valid feature names, but RandomForestClassifier was fitted with feature names\n",
      "  warnings.warn(\n",
      "c:\\Users\\Rusta\\AppData\\Local\\Programs\\Python\\Python39\\lib\\site-packages\\sklearn\\base.py:465: UserWarning: X does not have valid feature names, but RandomForestClassifier was fitted with feature names\n",
      "  warnings.warn(\n",
      "127.0.0.1 - - [15/Nov/2023 22:04:46] \"GET /predict?art=20619&room_t=25&room_h=59&machin_t=174&machin_p=1.8 HTTP/1.1\" 200 -\n"
     ]
    },
    {
     "name": "stdout",
     "output_type": "stream",
     "text": [
      "ответ Производство продукции произведется c отклонениями по параметру: Термический след\n"
     ]
    },
    {
     "name": "stderr",
     "output_type": "stream",
     "text": [
      "c:\\Users\\Rusta\\AppData\\Local\\Programs\\Python\\Python39\\lib\\site-packages\\sklearn\\base.py:465: UserWarning: X does not have valid feature names, but RandomForestClassifier was fitted with feature names\n",
      "  warnings.warn(\n",
      "[2023-11-15 22:05:22,367] ERROR in app: Exception on /predict [GET]\n",
      "Traceback (most recent call last):\n",
      "  File \"c:\\Users\\Rusta\\AppData\\Local\\Programs\\Python\\Python39\\lib\\site-packages\\flask\\app.py\", line 2073, in wsgi_app\n",
      "    response = self.full_dispatch_request()\n",
      "  File \"c:\\Users\\Rusta\\AppData\\Local\\Programs\\Python\\Python39\\lib\\site-packages\\flask\\app.py\", line 1518, in full_dispatch_request\n",
      "    rv = self.handle_user_exception(e)\n",
      "  File \"c:\\Users\\Rusta\\AppData\\Local\\Programs\\Python\\Python39\\lib\\site-packages\\flask_cors\\extension.py\", line 176, in wrapped_function\n",
      "    return cors_after_request(app.make_response(f(*args, **kwargs)))\n",
      "  File \"c:\\Users\\Rusta\\AppData\\Local\\Programs\\Python\\Python39\\lib\\site-packages\\flask\\app.py\", line 1516, in full_dispatch_request\n",
      "    rv = self.dispatch_request()\n",
      "  File \"c:\\Users\\Rusta\\AppData\\Local\\Programs\\Python\\Python39\\lib\\site-packages\\flask\\app.py\", line 1502, in dispatch_request\n",
      "    return self.ensure_sync(self.view_functions[rule.endpoint])(**req.view_args)\n",
      "  File \"C:\\Users\\Rusta\\AppData\\Local\\Temp/ipykernel_1776/2397430990.py\", line 18, in hello\n",
      "    answer = returnAnswer(art,machin_p,room_t,room_h,machin_t)\n",
      "  File \"C:\\Users\\Rusta\\AppData\\Local\\Temp/ipykernel_1776/213755211.py\", line 2, in returnAnswer\n",
      "    result = model_tf.predict([[art,machin_p, room_t, room_h,machin_t]])\n",
      "  File \"c:\\Users\\Rusta\\AppData\\Local\\Programs\\Python\\Python39\\lib\\site-packages\\sklearn\\ensemble\\_forest.py\", line 823, in predict\n",
      "    proba = self.predict_proba(X)\n",
      "  File \"c:\\Users\\Rusta\\AppData\\Local\\Programs\\Python\\Python39\\lib\\site-packages\\sklearn\\ensemble\\_forest.py\", line 865, in predict_proba\n",
      "    X = self._validate_X_predict(X)\n",
      "  File \"c:\\Users\\Rusta\\AppData\\Local\\Programs\\Python\\Python39\\lib\\site-packages\\sklearn\\ensemble\\_forest.py\", line 599, in _validate_X_predict\n",
      "    X = self._validate_data(X, dtype=DTYPE, accept_sparse=\"csr\", reset=False)\n",
      "  File \"c:\\Users\\Rusta\\AppData\\Local\\Programs\\Python\\Python39\\lib\\site-packages\\sklearn\\base.py\", line 605, in _validate_data\n",
      "    out = check_array(X, input_name=\"X\", **check_params)\n",
      "  File \"c:\\Users\\Rusta\\AppData\\Local\\Programs\\Python\\Python39\\lib\\site-packages\\sklearn\\utils\\validation.py\", line 915, in check_array\n",
      "    array = _asarray_with_order(array, order=order, dtype=dtype, xp=xp)\n",
      "  File \"c:\\Users\\Rusta\\AppData\\Local\\Programs\\Python\\Python39\\lib\\site-packages\\sklearn\\utils\\_array_api.py\", line 380, in _asarray_with_order\n",
      "    array = numpy.asarray(array, order=order, dtype=dtype)\n",
      "ValueError: could not convert string to float: ''\n",
      "127.0.0.1 - - [15/Nov/2023 22:05:22] \"GET /predict?art=20619&room_t=&room_h=&machin_t=&machin_p= HTTP/1.1\" 500 -\n",
      "c:\\Users\\Rusta\\AppData\\Local\\Programs\\Python\\Python39\\lib\\site-packages\\sklearn\\base.py:465: UserWarning: X does not have valid feature names, but RandomForestClassifier was fitted with feature names\n",
      "  warnings.warn(\n",
      "c:\\Users\\Rusta\\AppData\\Local\\Programs\\Python\\Python39\\lib\\site-packages\\sklearn\\base.py:465: UserWarning: X does not have valid feature names, but RandomForestClassifier was fitted with feature names\n",
      "  warnings.warn(\n",
      "127.0.0.1 - - [15/Nov/2023 22:05:25] \"GET /predict?art=20619&room_t=23&room_h=50&machin_t=188&machin_p=1.6 HTTP/1.1\" 200 -\n"
     ]
    },
    {
     "name": "stdout",
     "output_type": "stream",
     "text": [
      "ответ Производство продукции произведется c отклонениями по параметру: Расслоение по телу\n"
     ]
    },
    {
     "name": "stderr",
     "output_type": "stream",
     "text": [
      "c:\\Users\\Rusta\\AppData\\Local\\Programs\\Python\\Python39\\lib\\site-packages\\sklearn\\base.py:465: UserWarning: X does not have valid feature names, but RandomForestClassifier was fitted with feature names\n",
      "  warnings.warn(\n",
      "c:\\Users\\Rusta\\AppData\\Local\\Programs\\Python\\Python39\\lib\\site-packages\\sklearn\\base.py:465: UserWarning: X does not have valid feature names, but RandomForestClassifier was fitted with feature names\n",
      "  warnings.warn(\n",
      "127.0.0.1 - - [15/Nov/2023 22:05:27] \"GET /predict?art=20619&room_t=23&room_h=50&machin_t=188&machin_p=1.6 HTTP/1.1\" 200 -\n"
     ]
    },
    {
     "name": "stdout",
     "output_type": "stream",
     "text": [
      "ответ Производство продукции произведется c отклонениями по параметру: Расслоение по телу\n"
     ]
    },
    {
     "name": "stderr",
     "output_type": "stream",
     "text": [
      "c:\\Users\\Rusta\\AppData\\Local\\Programs\\Python\\Python39\\lib\\site-packages\\sklearn\\base.py:465: UserWarning: X does not have valid feature names, but RandomForestClassifier was fitted with feature names\n",
      "  warnings.warn(\n",
      "c:\\Users\\Rusta\\AppData\\Local\\Programs\\Python\\Python39\\lib\\site-packages\\sklearn\\base.py:465: UserWarning: X does not have valid feature names, but RandomForestClassifier was fitted with feature names\n",
      "  warnings.warn(\n",
      "127.0.0.1 - - [15/Nov/2023 22:05:42] \"GET /predict?art=20619&room_t=19&room_h=42&machin_t=148&machin_p=1.5 HTTP/1.1\" 200 -\n"
     ]
    },
    {
     "name": "stdout",
     "output_type": "stream",
     "text": [
      "ответ Производство продукции произведется c отклонениями по параметру: Пузыри, поры, раковины на наружной поверхности\n"
     ]
    },
    {
     "name": "stderr",
     "output_type": "stream",
     "text": [
      "c:\\Users\\Rusta\\AppData\\Local\\Programs\\Python\\Python39\\lib\\site-packages\\sklearn\\base.py:465: UserWarning: X does not have valid feature names, but RandomForestClassifier was fitted with feature names\n",
      "  warnings.warn(\n",
      "c:\\Users\\Rusta\\AppData\\Local\\Programs\\Python\\Python39\\lib\\site-packages\\sklearn\\base.py:465: UserWarning: X does not have valid feature names, but RandomForestClassifier was fitted with feature names\n",
      "  warnings.warn(\n",
      "127.0.0.1 - - [15/Nov/2023 22:06:03] \"GET /predict?art=20619&room_t=23&room_h=47&machin_t=209&machin_p=1.9 HTTP/1.1\" 200 -\n"
     ]
    },
    {
     "name": "stdout",
     "output_type": "stream",
     "text": [
      "ответ Производство продукции произведется c отклонениями по параметру: Царапины\n"
     ]
    },
    {
     "name": "stderr",
     "output_type": "stream",
     "text": [
      "c:\\Users\\Rusta\\AppData\\Local\\Programs\\Python\\Python39\\lib\\site-packages\\sklearn\\base.py:465: UserWarning: X does not have valid feature names, but RandomForestClassifier was fitted with feature names\n",
      "  warnings.warn(\n",
      "c:\\Users\\Rusta\\AppData\\Local\\Programs\\Python\\Python39\\lib\\site-packages\\sklearn\\base.py:465: UserWarning: X does not have valid feature names, but RandomForestClassifier was fitted with feature names\n",
      "  warnings.warn(\n",
      "127.0.0.1 - - [15/Nov/2023 22:06:12] \"GET /predict?art=20534&room_t=23&room_h=47&machin_t=209&machin_p=1.9 HTTP/1.1\" 200 -\n"
     ]
    },
    {
     "name": "stdout",
     "output_type": "stream",
     "text": [
      "ответ Производство продукции произведется c отклонениями по параметру: Царапины\n"
     ]
    },
    {
     "name": "stderr",
     "output_type": "stream",
     "text": [
      "c:\\Users\\Rusta\\AppData\\Local\\Programs\\Python\\Python39\\lib\\site-packages\\sklearn\\base.py:465: UserWarning: X does not have valid feature names, but RandomForestClassifier was fitted with feature names\n",
      "  warnings.warn(\n",
      "127.0.0.1 - - [15/Nov/2023 22:06:16] \"GET /predict?art=20534&room_t=18&room_h=56&machin_t=189&machin_p=1.7 HTTP/1.1\" 200 -\n"
     ]
    },
    {
     "name": "stdout",
     "output_type": "stream",
     "text": [
      "ответ Производство продукции произведется без отклонений\n"
     ]
    },
    {
     "name": "stderr",
     "output_type": "stream",
     "text": [
      "c:\\Users\\Rusta\\AppData\\Local\\Programs\\Python\\Python39\\lib\\site-packages\\sklearn\\base.py:465: UserWarning: X does not have valid feature names, but RandomForestClassifier was fitted with feature names\n",
      "  warnings.warn(\n",
      "c:\\Users\\Rusta\\AppData\\Local\\Programs\\Python\\Python39\\lib\\site-packages\\sklearn\\base.py:465: UserWarning: X does not have valid feature names, but RandomForestClassifier was fitted with feature names\n",
      "  warnings.warn(\n",
      "127.0.0.1 - - [15/Nov/2023 22:06:58] \"GET /predict?art=20534&room_t=23&room_h=58&machin_t=208&machin_p=2 HTTP/1.1\" 200 -\n"
     ]
    },
    {
     "name": "stdout",
     "output_type": "stream",
     "text": [
      "ответ Производство продукции произведется c отклонениями по параметру: Несоответствие маркировки\n"
     ]
    },
    {
     "name": "stderr",
     "output_type": "stream",
     "text": [
      "c:\\Users\\Rusta\\AppData\\Local\\Programs\\Python\\Python39\\lib\\site-packages\\sklearn\\base.py:465: UserWarning: X does not have valid feature names, but RandomForestClassifier was fitted with feature names\n",
      "  warnings.warn(\n",
      "c:\\Users\\Rusta\\AppData\\Local\\Programs\\Python\\Python39\\lib\\site-packages\\sklearn\\base.py:465: UserWarning: X does not have valid feature names, but RandomForestClassifier was fitted with feature names\n",
      "  warnings.warn(\n",
      "127.0.0.1 - - [15/Nov/2023 22:07:33] \"GET /predict?art=20534&room_t=19&room_h=58&machin_t=220&machin_p=1.9 HTTP/1.1\" 200 -\n"
     ]
    },
    {
     "name": "stdout",
     "output_type": "stream",
     "text": [
      "ответ Производство продукции произведется c отклонениями по параметру: Царапины\n"
     ]
    },
    {
     "name": "stderr",
     "output_type": "stream",
     "text": [
      "c:\\Users\\Rusta\\AppData\\Local\\Programs\\Python\\Python39\\lib\\site-packages\\sklearn\\base.py:465: UserWarning: X does not have valid feature names, but RandomForestClassifier was fitted with feature names\n",
      "  warnings.warn(\n",
      "c:\\Users\\Rusta\\AppData\\Local\\Programs\\Python\\Python39\\lib\\site-packages\\sklearn\\base.py:465: UserWarning: X does not have valid feature names, but RandomForestClassifier was fitted with feature names\n",
      "  warnings.warn(\n",
      "127.0.0.1 - - [15/Nov/2023 22:07:39] \"GET /predict?art=20534&room_t=16&room_h=40&machin_t=199&machin_p=2.1 HTTP/1.1\" 200 -\n"
     ]
    },
    {
     "name": "stdout",
     "output_type": "stream",
     "text": [
      "ответ Производство продукции произведется c отклонениями по параметру: Щель между нитями ровинга\n"
     ]
    },
    {
     "name": "stderr",
     "output_type": "stream",
     "text": [
      "c:\\Users\\Rusta\\AppData\\Local\\Programs\\Python\\Python39\\lib\\site-packages\\sklearn\\base.py:465: UserWarning: X does not have valid feature names, but RandomForestClassifier was fitted with feature names\n",
      "  warnings.warn(\n",
      "127.0.0.1 - - [15/Nov/2023 22:07:58] \"GET /predict?art=20534&room_t=25&room_h=50&machin_t=181&machin_p=1.7 HTTP/1.1\" 200 -\n"
     ]
    },
    {
     "name": "stdout",
     "output_type": "stream",
     "text": [
      "ответ Производство продукции произведется без отклонений\n"
     ]
    },
    {
     "name": "stderr",
     "output_type": "stream",
     "text": [
      "c:\\Users\\Rusta\\AppData\\Local\\Programs\\Python\\Python39\\lib\\site-packages\\sklearn\\base.py:465: UserWarning: X does not have valid feature names, but RandomForestClassifier was fitted with feature names\n",
      "  warnings.warn(\n",
      "c:\\Users\\Rusta\\AppData\\Local\\Programs\\Python\\Python39\\lib\\site-packages\\sklearn\\base.py:465: UserWarning: X does not have valid feature names, but RandomForestClassifier was fitted with feature names\n",
      "  warnings.warn(\n",
      "127.0.0.1 - - [15/Nov/2023 22:08:04] \"GET /predict?art=20534&room_t=17&room_h=56&machin_t=167&machin_p=1.8 HTTP/1.1\" 200 -\n"
     ]
    },
    {
     "name": "stdout",
     "output_type": "stream",
     "text": [
      "ответ Производство продукции произведется c отклонениями по параметру: Пузыри, поры, раковины на наружной поверхности\n"
     ]
    }
   ],
   "source": [
    "app = Flask(__name__)\n",
    "CORS(app)\n",
    "run_with_ngrok(app) \n",
    "@app.route('/predict', methods=['OPTION'])\n",
    "def cors_predict(response):\n",
    "    response.headers['Access-Control-Allow-Origin'] = '*'\n",
    "    response.headers['Access-Control-Allow-Methods'] = '*'\n",
    "    return response\n",
    "\n",
    "\n",
    "@app.route('/predict', methods=['GET'])\n",
    "def hello():\n",
    "  art = request.args.get('art')\n",
    "  machin_p = request.args.get('machin_p')\n",
    "  room_t = request.args.get('room_t')\n",
    "  room_h = request.args.get('room_h')\n",
    "  machin_t = request.args.get('machin_t')\n",
    "  answer = returnAnswer(art,machin_p,room_t,room_h,machin_t)\n",
    "  print(f'ответ {answer}')\n",
    "  return answer\n",
    "\n",
    "if __name__ == '__main__':\n",
    "  app.run() "
   ]
  },
  {
   "cell_type": "code",
   "execution_count": 4,
   "metadata": {},
   "outputs": [],
   "source": [
    "import pandas as pd\n",
    "import numpy as np\n",
    "import pickle"
   ]
  },
  {
   "cell_type": "code",
   "execution_count": 5,
   "metadata": {},
   "outputs": [],
   "source": [
    "dir_Model = './../model/'\n",
    "\n",
    "filename_tf = dir_Model+'model_tf.pkl'\n",
    "filename_def = dir_Model+'model_def.pkl'\n",
    "\n",
    "model_tf = pickle.load(open(filename_tf, 'rb')) \n",
    "model_def = pickle.load(open(filename_def, 'rb')) "
   ]
  },
  {
   "cell_type": "code",
   "execution_count": 16,
   "metadata": {},
   "outputs": [],
   "source": [
    "def returnAnswer(art,machin_p,room_t,room_h,machin_t):\n",
    "    result = model_tf.predict([[art,machin_p, room_t, room_h,machin_t]])\n",
    "    if result[0] == 1 :\n",
    "        result = 'Производство продукции произведется без отклонений'\n",
    "    else :\n",
    "        result = 'Производство продукции произведется c отклонениями по параметру: ' + np.array(returnAnswerDefect(art,machin_p,room_t,room_h,machin_t))[0]\n",
    "    return result"
   ]
  },
  {
   "cell_type": "code",
   "execution_count": 17,
   "metadata": {},
   "outputs": [],
   "source": [
    "def returnAnswerDefect(art,machin_p,room_t,room_h,machin_t):\n",
    "    result = model_def.predict([[art,machin_p, room_t, room_h,machin_t]])\n",
    "    df = pd.read_csv('../readyData/resultList.csv')\n",
    "    return df['result_name'].iloc[result]"
   ]
  }
 ],
 "metadata": {
  "kernelspec": {
   "display_name": "Python 3",
   "language": "python",
   "name": "python3"
  },
  "language_info": {
   "codemirror_mode": {
    "name": "ipython",
    "version": 3
   },
   "file_extension": ".py",
   "mimetype": "text/x-python",
   "name": "python",
   "nbconvert_exporter": "python",
   "pygments_lexer": "ipython3",
   "version": "3.9.8"
  }
 },
 "nbformat": 4,
 "nbformat_minor": 2
}
